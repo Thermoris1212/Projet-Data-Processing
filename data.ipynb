{
 "cells": [
  {
   "cell_type": "markdown",
   "metadata": {},
   "source": [
    "# Ayiti Analytics Data Processing Bootcamp\n",
    "  Ayiti Analytics Data wants to expand its training centers throughout all the communes of the country. Your role as a data analyst is to help them realize this dream.\n",
    "\n",
    "Its objective is to know which three communes of the country will be the most likely to expand its training centers.\n",
    "\n",
    "Knowing that each cohort must have 30 students\n",
    " \n",
    "* How many applications must be made to select 25% women for each on average\n",
    "\n",
    "* What are the most effective communication channels (Alumni, Facebook, WhatsApp, Friend ...) that will allow a student to be susceptible to selection\n",
    " \n",
    "* What is the average number of university students who should participate in this program\n",
    "* What will be the average number of applications per week that we could have\n",
    "* How many weeks should we extend the application process to select 60 students per commune?\n",
    "* If we were to do all the bootcamp online, who would be the best communes and how many applications would we need to select 30 student and what percentage of students would have a laptop, an internet connection, both at the same time\n",
    "* What are the most effective communication channels (Alumni, Facebook, WhatsApp, Friend ...) that will allow a women to be susceptible to selection\n",
    "\n",
    "### NB \n",
    "Use the same framework of the BA project to complete this project\n"
   ]
  },
  {
   "cell_type": "code",
   "execution_count": null,
   "metadata": {},
   "outputs": [],
   "source": [
    "Combien de candidatures faut-il faire pour sélectionner 25% de femmes pour chacune en moyenne\n",
    "\n",
    "Quels sont les canaux de communication les plus efficaces (Alumni, Facebook, WhatsApp, Friend...) qui permettront à un étudiant d'être susceptible d'être sélectionné\n",
    "\n",
    "Quel est le nombre moyen d'étudiants universitaires qui devraient participer à ce programme\n",
    "\n",
    "Quel sera le nombre moyen de demandes par semaine que nous pourrions avoir\n",
    "De combien de semaines doit-on allonger le processus de candidature pour sélectionner 60 étudiants par commune ?\n",
    "Si nous devions faire tout le bootcamp en ligne, qui seraient les meilleures communes et combien d'applications aurions-nous besoin pour sélectionner 30 étudiants et quel pourcentage d'étudiants aurait un ordinateur portable, une connexion Internet, les deux en même temps\n",
    "Quels sont les canaux de communication les plus efficaces (Alumni, Facebook, WhatsApp, Friend...) qui permettront à une femme d'être sensible à la sélection"
   ]
  },
  {
   "cell_type": "code",
   "execution_count": 31,
   "metadata": {},
   "outputs": [],
   "source": [
    "import numpy as np\n",
    "import pandas as pd\n",
    "import matplotlib.pyplot as plt\n",
    "import seaborn as sns\n",
    "\n"
   ]
  },
  {
   "cell_type": "code",
   "execution_count": 32,
   "metadata": {},
   "outputs": [],
   "source": [
    "pd1=pd.read_excel(\"commune.xlsx\")\n",
    "pd2=pd.read_csv(\"enroll.csv\")\n",
    "pd3=pd.read_csv(\"industry.csv\")\n",
    "pd4=pd.read_csv(\"ord.csv\")\n",
    "pd5=pd.read_csv(\"quest.csv\")\n",
    "pd6=pd.read_csv(\"study_domain.csv\")\n",
    "pd7=pd.read_csv(\"technology.csv\")\n",
    "pd8=pd.read_csv(\"transaction.csv\")"
   ]
  },
  {
   "cell_type": "code",
   "execution_count": null,
   "metadata": {},
   "outputs": [],
   "source": [
    "#Commune data Visulisation (5rows)"
   ]
  },
  {
   "cell_type": "code",
   "execution_count": 33,
   "metadata": {},
   "outputs": [
    {
     "output_type": "execute_result",
     "data": {
      "text/plain": [
       "      Commune_en     Commune_FR Commune_Id  Departement ADM1_PCODE\n",
       "0       Abricots       Abricots     HT0812  Grande'Anse       HT08\n",
       "1   Acul du Nord   Acul du Nord     HT0321        North       HT03\n",
       "2  Anse-a-Foleur  Anse-à-Foleur     HT0922   North-West       HT09\n",
       "3   Anse-a-Pitre   Anse-à-Pître     HT0234   South-East       HT02\n",
       "4    Anse-a-Veau    Anse-à-Veau     HT1021       Nippes       HT10"
      ],
      "text/html": "<div>\n<style scoped>\n    .dataframe tbody tr th:only-of-type {\n        vertical-align: middle;\n    }\n\n    .dataframe tbody tr th {\n        vertical-align: top;\n    }\n\n    .dataframe thead th {\n        text-align: right;\n    }\n</style>\n<table border=\"1\" class=\"dataframe\">\n  <thead>\n    <tr style=\"text-align: right;\">\n      <th></th>\n      <th>Commune_en</th>\n      <th>Commune_FR</th>\n      <th>Commune_Id</th>\n      <th>Departement</th>\n      <th>ADM1_PCODE</th>\n    </tr>\n  </thead>\n  <tbody>\n    <tr>\n      <th>0</th>\n      <td>Abricots</td>\n      <td>Abricots</td>\n      <td>HT0812</td>\n      <td>Grande'Anse</td>\n      <td>HT08</td>\n    </tr>\n    <tr>\n      <th>1</th>\n      <td>Acul du Nord</td>\n      <td>Acul du Nord</td>\n      <td>HT0321</td>\n      <td>North</td>\n      <td>HT03</td>\n    </tr>\n    <tr>\n      <th>2</th>\n      <td>Anse-a-Foleur</td>\n      <td>Anse-à-Foleur</td>\n      <td>HT0922</td>\n      <td>North-West</td>\n      <td>HT09</td>\n    </tr>\n    <tr>\n      <th>3</th>\n      <td>Anse-a-Pitre</td>\n      <td>Anse-à-Pître</td>\n      <td>HT0234</td>\n      <td>South-East</td>\n      <td>HT02</td>\n    </tr>\n    <tr>\n      <th>4</th>\n      <td>Anse-a-Veau</td>\n      <td>Anse-à-Veau</td>\n      <td>HT1021</td>\n      <td>Nippes</td>\n      <td>HT10</td>\n    </tr>\n  </tbody>\n</table>\n</div>"
     },
     "metadata": {},
     "execution_count": 33
    }
   ],
   "source": [
    "pd1.head()"
   ]
  },
  {
   "cell_type": "code",
   "execution_count": 50,
   "metadata": {},
   "outputs": [
    {
     "output_type": "execute_result",
     "data": {
      "text/plain": [
       "Commune_en     0\n",
       "Commune_FR     0\n",
       "Commune_Id     0\n",
       "Departement    0\n",
       "ADM1_PCODE     0\n",
       "dtype: int64"
      ]
     },
     "metadata": {},
     "execution_count": 50
    }
   ],
   "source": [
    "#show if it have (Column NULL VALUE)\n",
    "pd1.isna().sum()"
   ]
  },
  {
   "cell_type": "code",
   "execution_count": 52,
   "metadata": {},
   "outputs": [
    {
     "output_type": "execute_result",
     "data": {
      "text/plain": [
       "(140, 5)"
      ]
     },
     "metadata": {},
     "execution_count": 52
    }
   ],
   "source": [
    "#Quantity ROWS and COLUMNS\n",
    "pd1.shape"
   ]
  },
  {
   "cell_type": "code",
   "execution_count": 40,
   "metadata": {},
   "outputs": [
    {
     "output_type": "execute_result",
     "data": {
      "text/plain": [
       "   Unnamed: 0                created_at expiry_date   user_id  \\\n",
       "0           0  2020-12-12T06:41:29.844Z         NaN  29816173   \n",
       "1           1  2020-12-13T14:41:17.720Z         NaN  35229766   \n",
       "2           2  2020-12-15T00:53:06.499Z         NaN  31987560   \n",
       "3           3  2020-12-18T18:38:55.683Z         NaN  35616451   \n",
       "4           4  2020-12-21T14:45:06.528Z         NaN  35390649   \n",
       "\n",
       "                   course_name  course_id  percentage_completed  completed_at  \\\n",
       "0  Entwodiksyon Nan Syans Done    1047613                   0.0           NaN   \n",
       "1  Entwodiksyon Nan Syans Done    1047613                   0.0           NaN   \n",
       "2  Entwodiksyon Nan Syans Done    1047613                   0.0           NaN   \n",
       "3  Entwodiksyon Nan Syans Done    1047613                   0.0           NaN   \n",
       "4  Entwodiksyon Nan Syans Done    1047613                   0.0           NaN   \n",
       "\n",
       "   expired  is_free_trial  completed started_at activated_at  \\\n",
       "0    False           True      False        NaN          NaN   \n",
       "1    False           True      False        NaN          NaN   \n",
       "2    False           True      False        NaN          NaN   \n",
       "3    False           True      False        NaN          NaN   \n",
       "4    False           True      False        NaN          NaN   \n",
       "\n",
       "                 updated_at quest_id  \n",
       "0  2020-12-12T06:41:29.844Z      NaN  \n",
       "1  2020-12-13T14:41:17.720Z      NaN  \n",
       "2  2020-12-15T00:53:06.499Z      NaN  \n",
       "3  2020-12-18T18:38:55.683Z      NaN  \n",
       "4  2020-12-21T14:45:06.528Z      NaN  "
      ],
      "text/html": "<div>\n<style scoped>\n    .dataframe tbody tr th:only-of-type {\n        vertical-align: middle;\n    }\n\n    .dataframe tbody tr th {\n        vertical-align: top;\n    }\n\n    .dataframe thead th {\n        text-align: right;\n    }\n</style>\n<table border=\"1\" class=\"dataframe\">\n  <thead>\n    <tr style=\"text-align: right;\">\n      <th></th>\n      <th>Unnamed: 0</th>\n      <th>created_at</th>\n      <th>expiry_date</th>\n      <th>user_id</th>\n      <th>course_name</th>\n      <th>course_id</th>\n      <th>percentage_completed</th>\n      <th>completed_at</th>\n      <th>expired</th>\n      <th>is_free_trial</th>\n      <th>completed</th>\n      <th>started_at</th>\n      <th>activated_at</th>\n      <th>updated_at</th>\n      <th>quest_id</th>\n    </tr>\n  </thead>\n  <tbody>\n    <tr>\n      <th>0</th>\n      <td>0</td>\n      <td>2020-12-12T06:41:29.844Z</td>\n      <td>NaN</td>\n      <td>29816173</td>\n      <td>Entwodiksyon Nan Syans Done</td>\n      <td>1047613</td>\n      <td>0.0</td>\n      <td>NaN</td>\n      <td>False</td>\n      <td>True</td>\n      <td>False</td>\n      <td>NaN</td>\n      <td>NaN</td>\n      <td>2020-12-12T06:41:29.844Z</td>\n      <td>NaN</td>\n    </tr>\n    <tr>\n      <th>1</th>\n      <td>1</td>\n      <td>2020-12-13T14:41:17.720Z</td>\n      <td>NaN</td>\n      <td>35229766</td>\n      <td>Entwodiksyon Nan Syans Done</td>\n      <td>1047613</td>\n      <td>0.0</td>\n      <td>NaN</td>\n      <td>False</td>\n      <td>True</td>\n      <td>False</td>\n      <td>NaN</td>\n      <td>NaN</td>\n      <td>2020-12-13T14:41:17.720Z</td>\n      <td>NaN</td>\n    </tr>\n    <tr>\n      <th>2</th>\n      <td>2</td>\n      <td>2020-12-15T00:53:06.499Z</td>\n      <td>NaN</td>\n      <td>31987560</td>\n      <td>Entwodiksyon Nan Syans Done</td>\n      <td>1047613</td>\n      <td>0.0</td>\n      <td>NaN</td>\n      <td>False</td>\n      <td>True</td>\n      <td>False</td>\n      <td>NaN</td>\n      <td>NaN</td>\n      <td>2020-12-15T00:53:06.499Z</td>\n      <td>NaN</td>\n    </tr>\n    <tr>\n      <th>3</th>\n      <td>3</td>\n      <td>2020-12-18T18:38:55.683Z</td>\n      <td>NaN</td>\n      <td>35616451</td>\n      <td>Entwodiksyon Nan Syans Done</td>\n      <td>1047613</td>\n      <td>0.0</td>\n      <td>NaN</td>\n      <td>False</td>\n      <td>True</td>\n      <td>False</td>\n      <td>NaN</td>\n      <td>NaN</td>\n      <td>2020-12-18T18:38:55.683Z</td>\n      <td>NaN</td>\n    </tr>\n    <tr>\n      <th>4</th>\n      <td>4</td>\n      <td>2020-12-21T14:45:06.528Z</td>\n      <td>NaN</td>\n      <td>35390649</td>\n      <td>Entwodiksyon Nan Syans Done</td>\n      <td>1047613</td>\n      <td>0.0</td>\n      <td>NaN</td>\n      <td>False</td>\n      <td>True</td>\n      <td>False</td>\n      <td>NaN</td>\n      <td>NaN</td>\n      <td>2020-12-21T14:45:06.528Z</td>\n      <td>NaN</td>\n    </tr>\n  </tbody>\n</table>\n</div>"
     },
     "metadata": {},
     "execution_count": 40
    }
   ],
   "source": [
    "#enroll data Visulisation Info\n",
    "pd2.head()"
   ]
  },
  {
   "cell_type": "code",
   "execution_count": 47,
   "metadata": {},
   "outputs": [
    {
     "output_type": "stream",
     "name": "stdout",
     "text": [
      "<class 'pandas.core.frame.DataFrame'>\nRangeIndex: 148 entries, 0 to 147\nData columns (total 15 columns):\n #   Column                Non-Null Count  Dtype  \n---  ------                --------------  -----  \n 0   Unnamed: 0            148 non-null    int64  \n 1   created_at            148 non-null    object \n 2   expiry_date           60 non-null     object \n 3   user_id               148 non-null    int64  \n 4   course_name           148 non-null    object \n 5   course_id             148 non-null    int64  \n 6   percentage_completed  148 non-null    float64\n 7   completed_at          0 non-null      float64\n 8   expired               148 non-null    bool   \n 9   is_free_trial         148 non-null    bool   \n 10  completed             148 non-null    bool   \n 11  started_at            135 non-null    object \n 12  activated_at          77 non-null     object \n 13  updated_at            148 non-null    object \n 14  quest_id              102 non-null    object \ndtypes: bool(3), float64(2), int64(3), object(7)\nmemory usage: 14.4+ KB\n"
     ]
    }
   ],
   "source": [
    "pd2.info()"
   ]
  },
  {
   "cell_type": "code",
   "execution_count": 44,
   "metadata": {},
   "outputs": [
    {
     "output_type": "execute_result",
     "data": {
      "text/plain": [
       "   Unnamed: 0    key                           values  \\\n",
       "0           0  item1                          Finance   \n",
       "1           1  item6  Technology (Software/ Internet)   \n",
       "2           2  item5                        Education   \n",
       "3           3  item3                       Consulting   \n",
       "4           4  item7                           Energy   \n",
       "\n",
       "                               quest_id  \n",
       "0  905ddcf2-ce95-11eb-9a92-7c67a234f601  \n",
       "1  905e2608-ce95-11eb-809f-7c67a234f601  \n",
       "2  905e2608-ce95-11eb-809f-7c67a234f601  \n",
       "3  905e2608-ce95-11eb-809f-7c67a234f601  \n",
       "4  905e2608-ce95-11eb-809f-7c67a234f601  "
      ],
      "text/html": "<div>\n<style scoped>\n    .dataframe tbody tr th:only-of-type {\n        vertical-align: middle;\n    }\n\n    .dataframe tbody tr th {\n        vertical-align: top;\n    }\n\n    .dataframe thead th {\n        text-align: right;\n    }\n</style>\n<table border=\"1\" class=\"dataframe\">\n  <thead>\n    <tr style=\"text-align: right;\">\n      <th></th>\n      <th>Unnamed: 0</th>\n      <th>key</th>\n      <th>values</th>\n      <th>quest_id</th>\n    </tr>\n  </thead>\n  <tbody>\n    <tr>\n      <th>0</th>\n      <td>0</td>\n      <td>item1</td>\n      <td>Finance</td>\n      <td>905ddcf2-ce95-11eb-9a92-7c67a234f601</td>\n    </tr>\n    <tr>\n      <th>1</th>\n      <td>1</td>\n      <td>item6</td>\n      <td>Technology (Software/ Internet)</td>\n      <td>905e2608-ce95-11eb-809f-7c67a234f601</td>\n    </tr>\n    <tr>\n      <th>2</th>\n      <td>2</td>\n      <td>item5</td>\n      <td>Education</td>\n      <td>905e2608-ce95-11eb-809f-7c67a234f601</td>\n    </tr>\n    <tr>\n      <th>3</th>\n      <td>3</td>\n      <td>item3</td>\n      <td>Consulting</td>\n      <td>905e2608-ce95-11eb-809f-7c67a234f601</td>\n    </tr>\n    <tr>\n      <th>4</th>\n      <td>4</td>\n      <td>item7</td>\n      <td>Energy</td>\n      <td>905e2608-ce95-11eb-809f-7c67a234f601</td>\n    </tr>\n  </tbody>\n</table>\n</div>"
     },
     "metadata": {},
     "execution_count": 44
    }
   ],
   "source": [
    "#industry data Visulisation Info\n",
    "pd3.head()"
   ]
  },
  {
   "cell_type": "code",
   "execution_count": 46,
   "metadata": {},
   "outputs": [
    {
     "output_type": "stream",
     "name": "stdout",
     "text": [
      "<class 'pandas.core.frame.DataFrame'>\nRangeIndex: 807 entries, 0 to 806\nData columns (total 4 columns):\n #   Column      Non-Null Count  Dtype \n---  ------      --------------  ----- \n 0   Unnamed: 0  807 non-null    int64 \n 1   key         807 non-null    object\n 2   values      807 non-null    object\n 3   quest_id    807 non-null    object\ndtypes: int64(1), object(3)\nmemory usage: 25.3+ KB\n"
     ]
    }
   ],
   "source": [
    "pd3.info()"
   ]
  },
  {
   "cell_type": "code",
   "execution_count": 48,
   "metadata": {},
   "outputs": [
    {
     "output_type": "execute_result",
     "data": {
      "text/plain": [
       "   Unnamed: 0                created_at   user_id  \\\n",
       "0           0  2021-03-14T15:34:35.014Z  41587952   \n",
       "1           1  2021-03-14T04:20:23.483Z  41564742   \n",
       "2           2  2021-03-12T19:29:22.832Z  41501853   \n",
       "3           3  2021-03-12T14:23:11.154Z  40284930   \n",
       "4           4  2021-03-11T16:01:17.901Z  40281483   \n",
       "\n",
       "                  product_name  product_id  amount_dollars  amount_cents  \\\n",
       "0  Entwodiksyon Nan Syans Done     1100636              20          2000   \n",
       "1  Entwodiksyon Nan Syans Done     1100636              20          2000   \n",
       "2  Entwodiksyon Nan Syans Done     1100636              20          2000   \n",
       "3  Entwodiksyon Nan Syans Done     1100636               0             0   \n",
       "4  Entwodiksyon Nan Syans Done     1100636              20          2000   \n",
       "\n",
       "   subscription        coupon_code  coupon_id  affiliate_referral_code  \\\n",
       "0         False                NaN        NaN                      NaN   \n",
       "1         False                NaN        NaN                      NaN   \n",
       "2         False                NaN        NaN                      NaN   \n",
       "3         False  impact_hub_coupon  6658457.0                      NaN   \n",
       "4         False                NaN        NaN                      NaN   \n",
       "\n",
       "     status                              quest_id  \n",
       "0  Complete  906b3c86-ce95-11eb-b6a7-7c67a234f601  \n",
       "1  Complete  906636cf-ce95-11eb-8679-7c67a234f601  \n",
       "2  Complete  906968f5-ce95-11eb-9e1a-7c67a234f601  \n",
       "3  Complete  9060477c-ce95-11eb-ace3-7c67a234f601  \n",
       "4  Complete  9064ff29-ce95-11eb-a3d3-7c67a234f601  "
      ],
      "text/html": "<div>\n<style scoped>\n    .dataframe tbody tr th:only-of-type {\n        vertical-align: middle;\n    }\n\n    .dataframe tbody tr th {\n        vertical-align: top;\n    }\n\n    .dataframe thead th {\n        text-align: right;\n    }\n</style>\n<table border=\"1\" class=\"dataframe\">\n  <thead>\n    <tr style=\"text-align: right;\">\n      <th></th>\n      <th>Unnamed: 0</th>\n      <th>created_at</th>\n      <th>user_id</th>\n      <th>product_name</th>\n      <th>product_id</th>\n      <th>amount_dollars</th>\n      <th>amount_cents</th>\n      <th>subscription</th>\n      <th>coupon_code</th>\n      <th>coupon_id</th>\n      <th>affiliate_referral_code</th>\n      <th>status</th>\n      <th>quest_id</th>\n    </tr>\n  </thead>\n  <tbody>\n    <tr>\n      <th>0</th>\n      <td>0</td>\n      <td>2021-03-14T15:34:35.014Z</td>\n      <td>41587952</td>\n      <td>Entwodiksyon Nan Syans Done</td>\n      <td>1100636</td>\n      <td>20</td>\n      <td>2000</td>\n      <td>False</td>\n      <td>NaN</td>\n      <td>NaN</td>\n      <td>NaN</td>\n      <td>Complete</td>\n      <td>906b3c86-ce95-11eb-b6a7-7c67a234f601</td>\n    </tr>\n    <tr>\n      <th>1</th>\n      <td>1</td>\n      <td>2021-03-14T04:20:23.483Z</td>\n      <td>41564742</td>\n      <td>Entwodiksyon Nan Syans Done</td>\n      <td>1100636</td>\n      <td>20</td>\n      <td>2000</td>\n      <td>False</td>\n      <td>NaN</td>\n      <td>NaN</td>\n      <td>NaN</td>\n      <td>Complete</td>\n      <td>906636cf-ce95-11eb-8679-7c67a234f601</td>\n    </tr>\n    <tr>\n      <th>2</th>\n      <td>2</td>\n      <td>2021-03-12T19:29:22.832Z</td>\n      <td>41501853</td>\n      <td>Entwodiksyon Nan Syans Done</td>\n      <td>1100636</td>\n      <td>20</td>\n      <td>2000</td>\n      <td>False</td>\n      <td>NaN</td>\n      <td>NaN</td>\n      <td>NaN</td>\n      <td>Complete</td>\n      <td>906968f5-ce95-11eb-9e1a-7c67a234f601</td>\n    </tr>\n    <tr>\n      <th>3</th>\n      <td>3</td>\n      <td>2021-03-12T14:23:11.154Z</td>\n      <td>40284930</td>\n      <td>Entwodiksyon Nan Syans Done</td>\n      <td>1100636</td>\n      <td>0</td>\n      <td>0</td>\n      <td>False</td>\n      <td>impact_hub_coupon</td>\n      <td>6658457.0</td>\n      <td>NaN</td>\n      <td>Complete</td>\n      <td>9060477c-ce95-11eb-ace3-7c67a234f601</td>\n    </tr>\n    <tr>\n      <th>4</th>\n      <td>4</td>\n      <td>2021-03-11T16:01:17.901Z</td>\n      <td>40281483</td>\n      <td>Entwodiksyon Nan Syans Done</td>\n      <td>1100636</td>\n      <td>20</td>\n      <td>2000</td>\n      <td>False</td>\n      <td>NaN</td>\n      <td>NaN</td>\n      <td>NaN</td>\n      <td>Complete</td>\n      <td>9064ff29-ce95-11eb-a3d3-7c67a234f601</td>\n    </tr>\n  </tbody>\n</table>\n</div>"
     },
     "metadata": {},
     "execution_count": 48
    }
   ],
   "source": [
    "#ord show\n",
    "pd4.head()"
   ]
  },
  {
   "cell_type": "code",
   "execution_count": 49,
   "metadata": {},
   "outputs": [
    {
     "output_type": "execute_result",
     "data": {
      "text/plain": [
       "   Unnamed: 0  gender         dob commune                   created_at  \\\n",
       "0           0    male  25/08/1998  ht0111  2021-02-14T23:03:52.768400Z   \n",
       "1           1  female  29/09/1996  ht0111  2021-02-16T16:01:10.861844Z   \n",
       "2           2    male  17/05/1996  ht0111  2021-02-16T16:56:30.579504Z   \n",
       "3           3    male  24/11/1996  ht0111  2021-02-16T16:57:55.754541Z   \n",
       "4           4    male  20/07/1997  ht0111  2021-02-16T17:05:40.907948Z   \n",
       "\n",
       "                   modified_at department         education_level  \\\n",
       "0  2021-02-14T23:03:52.768462Z        NaN                 unknown   \n",
       "1  2021-02-16T16:01:10.861899Z       ht01     Bachelors (bacc +4)   \n",
       "2  2021-02-16T16:56:30.579563Z       ht01     Bachelors (bacc +4)   \n",
       "3  2021-02-16T16:57:55.754582Z       ht01     Bachelors (bacc +4)   \n",
       "4  2021-02-16T17:05:40.907982Z       ht01  High School (16 years)   \n",
       "\n",
       "                                       university        study_domain  \\\n",
       "0                                         unknown                  []   \n",
       "1                                           other           ['other']   \n",
       "2                 Université d'Etat d'Haïti (UEH)                  []   \n",
       "3  Ecole Supérieure d'Infotronique d'Haïti (ESIH)  ['item1', 'item6']   \n",
       "4                                         unknown           ['other']   \n",
       "\n",
       "  current_employed formal_sector_job have_computer_home internet_at_home  \\\n",
       "0          unknown           unknown            unknown          unknown   \n",
       "1               No           unknown                Yes              Yes   \n",
       "2               No           unknown                Yes              Yes   \n",
       "3               No           unknown                Yes              Yes   \n",
       "4               No           unknown                Yes              Yes   \n",
       "\n",
       "  hear_AA_1                           after_AA  \\\n",
       "0   unknown                            unknown   \n",
       "1    Friend           Finding a job/internship   \n",
       "2    Friend  Improving my data analysis skills   \n",
       "3      ESIH  Improving my data analysis skills   \n",
       "4  WhatsApp                         Mentorship   \n",
       "\n",
       "                               quest_id  \n",
       "0  905dc006-ce95-11eb-b2f9-7c67a234f601  \n",
       "1  905ddcf2-ce95-11eb-9a92-7c67a234f601  \n",
       "2  905e2608-ce95-11eb-809f-7c67a234f601  \n",
       "3  905e4cf5-ce95-11eb-96a9-7c67a234f601  \n",
       "4  905e73fd-ce95-11eb-a7b0-7c67a234f601  "
      ],
      "text/html": "<div>\n<style scoped>\n    .dataframe tbody tr th:only-of-type {\n        vertical-align: middle;\n    }\n\n    .dataframe tbody tr th {\n        vertical-align: top;\n    }\n\n    .dataframe thead th {\n        text-align: right;\n    }\n</style>\n<table border=\"1\" class=\"dataframe\">\n  <thead>\n    <tr style=\"text-align: right;\">\n      <th></th>\n      <th>Unnamed: 0</th>\n      <th>gender</th>\n      <th>dob</th>\n      <th>commune</th>\n      <th>created_at</th>\n      <th>modified_at</th>\n      <th>department</th>\n      <th>education_level</th>\n      <th>university</th>\n      <th>study_domain</th>\n      <th>current_employed</th>\n      <th>formal_sector_job</th>\n      <th>have_computer_home</th>\n      <th>internet_at_home</th>\n      <th>hear_AA_1</th>\n      <th>after_AA</th>\n      <th>quest_id</th>\n    </tr>\n  </thead>\n  <tbody>\n    <tr>\n      <th>0</th>\n      <td>0</td>\n      <td>male</td>\n      <td>25/08/1998</td>\n      <td>ht0111</td>\n      <td>2021-02-14T23:03:52.768400Z</td>\n      <td>2021-02-14T23:03:52.768462Z</td>\n      <td>NaN</td>\n      <td>unknown</td>\n      <td>unknown</td>\n      <td>[]</td>\n      <td>unknown</td>\n      <td>unknown</td>\n      <td>unknown</td>\n      <td>unknown</td>\n      <td>unknown</td>\n      <td>unknown</td>\n      <td>905dc006-ce95-11eb-b2f9-7c67a234f601</td>\n    </tr>\n    <tr>\n      <th>1</th>\n      <td>1</td>\n      <td>female</td>\n      <td>29/09/1996</td>\n      <td>ht0111</td>\n      <td>2021-02-16T16:01:10.861844Z</td>\n      <td>2021-02-16T16:01:10.861899Z</td>\n      <td>ht01</td>\n      <td>Bachelors (bacc +4)</td>\n      <td>other</td>\n      <td>['other']</td>\n      <td>No</td>\n      <td>unknown</td>\n      <td>Yes</td>\n      <td>Yes</td>\n      <td>Friend</td>\n      <td>Finding a job/internship</td>\n      <td>905ddcf2-ce95-11eb-9a92-7c67a234f601</td>\n    </tr>\n    <tr>\n      <th>2</th>\n      <td>2</td>\n      <td>male</td>\n      <td>17/05/1996</td>\n      <td>ht0111</td>\n      <td>2021-02-16T16:56:30.579504Z</td>\n      <td>2021-02-16T16:56:30.579563Z</td>\n      <td>ht01</td>\n      <td>Bachelors (bacc +4)</td>\n      <td>Université d'Etat d'Haïti (UEH)</td>\n      <td>[]</td>\n      <td>No</td>\n      <td>unknown</td>\n      <td>Yes</td>\n      <td>Yes</td>\n      <td>Friend</td>\n      <td>Improving my data analysis skills</td>\n      <td>905e2608-ce95-11eb-809f-7c67a234f601</td>\n    </tr>\n    <tr>\n      <th>3</th>\n      <td>3</td>\n      <td>male</td>\n      <td>24/11/1996</td>\n      <td>ht0111</td>\n      <td>2021-02-16T16:57:55.754541Z</td>\n      <td>2021-02-16T16:57:55.754582Z</td>\n      <td>ht01</td>\n      <td>Bachelors (bacc +4)</td>\n      <td>Ecole Supérieure d'Infotronique d'Haïti (ESIH)</td>\n      <td>['item1', 'item6']</td>\n      <td>No</td>\n      <td>unknown</td>\n      <td>Yes</td>\n      <td>Yes</td>\n      <td>ESIH</td>\n      <td>Improving my data analysis skills</td>\n      <td>905e4cf5-ce95-11eb-96a9-7c67a234f601</td>\n    </tr>\n    <tr>\n      <th>4</th>\n      <td>4</td>\n      <td>male</td>\n      <td>20/07/1997</td>\n      <td>ht0111</td>\n      <td>2021-02-16T17:05:40.907948Z</td>\n      <td>2021-02-16T17:05:40.907982Z</td>\n      <td>ht01</td>\n      <td>High School (16 years)</td>\n      <td>unknown</td>\n      <td>['other']</td>\n      <td>No</td>\n      <td>unknown</td>\n      <td>Yes</td>\n      <td>Yes</td>\n      <td>WhatsApp</td>\n      <td>Mentorship</td>\n      <td>905e73fd-ce95-11eb-a7b0-7c67a234f601</td>\n    </tr>\n  </tbody>\n</table>\n</div>"
     },
     "metadata": {},
     "execution_count": 49
    }
   ],
   "source": [
    "#quest Data Visual.....\n",
    "pd5.head()"
   ]
  },
  {
   "cell_type": "code",
   "execution_count": 54,
   "metadata": {},
   "outputs": [
    {
     "output_type": "execute_result",
     "data": {
      "text/plain": [
       "(250, 17)"
      ]
     },
     "metadata": {},
     "execution_count": 54
    }
   ],
   "source": [
    "#Quantity ROWS and COLUMNS\n",
    "pd5.shape"
   ]
  },
  {
   "cell_type": "code",
   "execution_count": 57,
   "metadata": {},
   "outputs": [
    {
     "output_type": "execute_result",
     "data": {
      "text/plain": [
       "(287, 4)"
      ]
     },
     "metadata": {},
     "execution_count": 57
    }
   ],
   "source": [
    "#Quantity ROWS and COLUMNS (Study_domain)\n",
    "pd6.shape\n"
   ]
  },
  {
   "cell_type": "code",
   "execution_count": 58,
   "metadata": {},
   "outputs": [
    {
     "output_type": "execute_result",
     "data": {
      "text/plain": [
       "   Unnamed: 0    key            values                              quest_id\n",
       "0           0  other             other  905ddcf2-ce95-11eb-9a92-7c67a234f601\n",
       "1           1  item1  Computer Science  905e4cf5-ce95-11eb-96a9-7c67a234f601\n",
       "2           2  item6        Management  905e4cf5-ce95-11eb-96a9-7c67a234f601\n",
       "3           3  other             other  905e73fd-ce95-11eb-a7b0-7c67a234f601\n",
       "4           4  other             other  905e9b27-ce95-11eb-9c37-7c67a234f601"
      ],
      "text/html": "<div>\n<style scoped>\n    .dataframe tbody tr th:only-of-type {\n        vertical-align: middle;\n    }\n\n    .dataframe tbody tr th {\n        vertical-align: top;\n    }\n\n    .dataframe thead th {\n        text-align: right;\n    }\n</style>\n<table border=\"1\" class=\"dataframe\">\n  <thead>\n    <tr style=\"text-align: right;\">\n      <th></th>\n      <th>Unnamed: 0</th>\n      <th>key</th>\n      <th>values</th>\n      <th>quest_id</th>\n    </tr>\n  </thead>\n  <tbody>\n    <tr>\n      <th>0</th>\n      <td>0</td>\n      <td>other</td>\n      <td>other</td>\n      <td>905ddcf2-ce95-11eb-9a92-7c67a234f601</td>\n    </tr>\n    <tr>\n      <th>1</th>\n      <td>1</td>\n      <td>item1</td>\n      <td>Computer Science</td>\n      <td>905e4cf5-ce95-11eb-96a9-7c67a234f601</td>\n    </tr>\n    <tr>\n      <th>2</th>\n      <td>2</td>\n      <td>item6</td>\n      <td>Management</td>\n      <td>905e4cf5-ce95-11eb-96a9-7c67a234f601</td>\n    </tr>\n    <tr>\n      <th>3</th>\n      <td>3</td>\n      <td>other</td>\n      <td>other</td>\n      <td>905e73fd-ce95-11eb-a7b0-7c67a234f601</td>\n    </tr>\n    <tr>\n      <th>4</th>\n      <td>4</td>\n      <td>other</td>\n      <td>other</td>\n      <td>905e9b27-ce95-11eb-9c37-7c67a234f601</td>\n    </tr>\n  </tbody>\n</table>\n</div>"
     },
     "metadata": {},
     "execution_count": 58
    }
   ],
   "source": [
    "#Data Visual....(5rowa)\n",
    "pd6.head()"
   ]
  },
  {
   "cell_type": "code",
   "execution_count": 59,
   "metadata": {},
   "outputs": [],
   "source": [
    "#Merge quest_ID\n",
    "res=pd.merge(left=pd5, right=pd2[[\"user_id\",\"percentage_completed\",'quest_id']], how = 'left',on='quest_id')\n",
    "resu=pd.merge(left=res, right=pd6, how = 'left',on='quest_id')\n",
    "resul=pd.merge(left=resu, right=pd6, how = 'left',on='quest_id')\n",
    "result=pd.merge(left=resul, right=pd3, how = 'left',on='quest_id')"
   ]
  },
  {
   "cell_type": "code",
   "execution_count": null,
   "metadata": {},
   "outputs": [],
   "source": [
    "\n"
   ]
  }
 ],
 "metadata": {
  "interpreter": {
   "hash": "b3ba2566441a7c06988d0923437866b63cedc61552a5af99d1f4fb67d367b25f"
  },
  "kernelspec": {
   "name": "python3",
   "display_name": "Python 3.8.5 64-bit ('base': conda)"
  },
  "language_info": {
   "codemirror_mode": {
    "name": "ipython",
    "version": 3
   },
   "file_extension": ".py",
   "mimetype": "text/x-python",
   "name": "python",
   "nbconvert_exporter": "python",
   "pygments_lexer": "ipython3",
   "version": "3.8.5"
  }
 },
 "nbformat": 4,
 "nbformat_minor": 2
}